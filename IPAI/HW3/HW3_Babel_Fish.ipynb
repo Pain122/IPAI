{
 "cells": [
  {
   "cell_type": "markdown",
   "id": "descending-terrorist",
   "metadata": {},
   "source": [
    "# IPAI Homework 3. Babel Fish\n",
    "\n",
    "#### Work done by Pavel Tishkin, p.tishkin@innpolis.university"
   ]
  },
  {
   "cell_type": "markdown",
   "id": "daily-division",
   "metadata": {},
   "source": [
    "# Installing the libraries"
   ]
  },
  {
   "cell_type": "code",
   "execution_count": 3,
   "id": "indoor-harassment",
   "metadata": {
    "collapsed": true,
    "jupyter": {
     "outputs_hidden": true
    },
    "tags": []
   },
   "outputs": [
    {
     "name": "stdout",
     "output_type": "stream",
     "text": [
      "Collecting google-cloud-translate\n",
      "  Downloading google_cloud_translate-3.4.0-py2.py3-none-any.whl (109 kB)\n",
      "Collecting google-cloud-core<3.0.0dev,>=1.3.0\n",
      "  Downloading google_cloud_core-2.0.0-py2.py3-none-any.whl (27 kB)\n",
      "Collecting proto-plus>=0.4.0\n",
      "  Downloading proto_plus-1.19.0-py3-none-any.whl (42 kB)\n",
      "Requirement already satisfied: google-api-core[grpc]<3.0.0dev,>=1.26.0 in c:\\users\\pavel\\appdata\\local\\programs\\python\\python38\\lib\\site-packages (from google-cloud-translate) (1.26.3)\n",
      "Requirement already satisfied: packaging>=14.3 in c:\\users\\pavel\\appdata\\local\\programs\\python\\python38\\lib\\site-packages (from google-cloud-translate) (20.9)\n",
      "Requirement already satisfied: pytz in c:\\users\\pavel\\appdata\\local\\programs\\python\\python38\\lib\\site-packages (from google-api-core[grpc]<3.0.0dev,>=1.26.0->google-cloud-translate) (2021.1)\n",
      "Requirement already satisfied: requests<3.0.0dev,>=2.18.0 in c:\\users\\pavel\\appdata\\local\\programs\\python\\python38\\lib\\site-packages (from google-api-core[grpc]<3.0.0dev,>=1.26.0->google-cloud-translate) (2.25.1)\n",
      "Requirement already satisfied: google-auth<2.0dev,>=1.21.1 in c:\\users\\pavel\\appdata\\local\\programs\\python\\python38\\lib\\site-packages (from google-api-core[grpc]<3.0.0dev,>=1.26.0->google-cloud-translate) (1.28.0)\n",
      "Requirement already satisfied: six>=1.13.0 in c:\\users\\pavel\\appdata\\local\\programs\\python\\python38\\lib\\site-packages (from google-api-core[grpc]<3.0.0dev,>=1.26.0->google-cloud-translate) (1.15.0)\n",
      "Requirement already satisfied: setuptools>=40.3.0 in c:\\users\\pavel\\appdata\\local\\programs\\python\\python38\\lib\\site-packages (from google-api-core[grpc]<3.0.0dev,>=1.26.0->google-cloud-translate) (57.4.0)\n",
      "Requirement already satisfied: googleapis-common-protos<2.0dev,>=1.6.0 in c:\\users\\pavel\\appdata\\local\\programs\\python\\python38\\lib\\site-packages (from google-api-core[grpc]<3.0.0dev,>=1.26.0->google-cloud-translate) (1.53.0)\n",
      "Requirement already satisfied: protobuf>=3.12.0 in c:\\users\\pavel\\appdata\\local\\programs\\python\\python38\\lib\\site-packages (from google-api-core[grpc]<3.0.0dev,>=1.26.0->google-cloud-translate) (3.15.7)\n",
      "Requirement already satisfied: grpcio<2.0dev,>=1.29.0 in c:\\users\\pavel\\appdata\\roaming\\python\\python38\\site-packages (from google-api-core[grpc]<3.0.0dev,>=1.26.0->google-cloud-translate) (1.32.0)\n",
      "Requirement already satisfied: pyasn1-modules>=0.2.1 in c:\\users\\pavel\\appdata\\local\\programs\\python\\python38\\lib\\site-packages (from google-auth<2.0dev,>=1.21.1->google-api-core[grpc]<3.0.0dev,>=1.26.0->google-cloud-translate) (0.2.8)\n",
      "Requirement already satisfied: cachetools<5.0,>=2.0.0 in c:\\users\\pavel\\appdata\\local\\programs\\python\\python38\\lib\\site-packages (from google-auth<2.0dev,>=1.21.1->google-api-core[grpc]<3.0.0dev,>=1.26.0->google-cloud-translate) (4.2.1)\n",
      "Requirement already satisfied: rsa<5,>=3.1.4 in c:\\users\\pavel\\appdata\\local\\programs\\python\\python38\\lib\\site-packages (from google-auth<2.0dev,>=1.21.1->google-api-core[grpc]<3.0.0dev,>=1.26.0->google-cloud-translate) (4.7.2)\n",
      "Requirement already satisfied: pyparsing>=2.0.2 in c:\\users\\pavel\\appdata\\local\\programs\\python\\python38\\lib\\site-packages (from packaging>=14.3->google-cloud-translate) (2.4.7)\n",
      "Requirement already satisfied: pyasn1<0.5.0,>=0.4.6 in c:\\users\\pavel\\appdata\\local\\programs\\python\\python38\\lib\\site-packages (from pyasn1-modules>=0.2.1->google-auth<2.0dev,>=1.21.1->google-api-core[grpc]<3.0.0dev,>=1.26.0->google-cloud-translate) (0.4.8)\n",
      "Requirement already satisfied: urllib3<1.27,>=1.21.1 in c:\\users\\pavel\\appdata\\local\\programs\\python\\python38\\lib\\site-packages (from requests<3.0.0dev,>=2.18.0->google-api-core[grpc]<3.0.0dev,>=1.26.0->google-cloud-translate) (1.26.4)\n",
      "Requirement already satisfied: chardet<5,>=3.0.2 in c:\\users\\pavel\\appdata\\local\\programs\\python\\python38\\lib\\site-packages (from requests<3.0.0dev,>=2.18.0->google-api-core[grpc]<3.0.0dev,>=1.26.0->google-cloud-translate) (3.0.4)\n",
      "Requirement already satisfied: certifi>=2017.4.17 in c:\\users\\pavel\\appdata\\local\\programs\\python\\python38\\lib\\site-packages (from requests<3.0.0dev,>=2.18.0->google-api-core[grpc]<3.0.0dev,>=1.26.0->google-cloud-translate) (2020.12.5)\n",
      "Requirement already satisfied: idna<3,>=2.5 in c:\\users\\pavel\\appdata\\local\\programs\\python\\python38\\lib\\site-packages (from requests<3.0.0dev,>=2.18.0->google-api-core[grpc]<3.0.0dev,>=1.26.0->google-cloud-translate) (2.10)\n",
      "Installing collected packages: proto-plus, google-cloud-core, google-cloud-translate\n",
      "Successfully installed google-cloud-core-2.0.0 google-cloud-translate-3.4.0 proto-plus-1.19.0\n"
     ]
    }
   ],
   "source": [
    "!pip install --user --upgrade google-cloud-translate"
   ]
  },
  {
   "cell_type": "code",
   "execution_count": 34,
   "id": "medium-dragon",
   "metadata": {
    "collapsed": true,
    "jupyter": {
     "outputs_hidden": true
    },
    "tags": []
   },
   "outputs": [
    {
     "name": "stdout",
     "output_type": "stream",
     "text": [
      "Collecting oauth2client\n",
      "  Downloading oauth2client-4.1.3-py2.py3-none-any.whl (98 kB)\n",
      "Requirement already satisfied: rsa>=3.1.4 in c:\\users\\pavel\\appdata\\local\\programs\\python\\python38\\lib\\site-packages (from oauth2client) (4.7.2)\n",
      "Requirement already satisfied: pyasn1>=0.1.7 in c:\\users\\pavel\\appdata\\local\\programs\\python\\python38\\lib\\site-packages (from oauth2client) (0.4.8)\n",
      "Requirement already satisfied: httplib2>=0.9.1 in c:\\users\\pavel\\appdata\\local\\programs\\python\\python38\\lib\\site-packages (from oauth2client) (0.19.1)\n",
      "Requirement already satisfied: six>=1.6.1 in c:\\users\\pavel\\appdata\\local\\programs\\python\\python38\\lib\\site-packages (from oauth2client) (1.15.0)\n",
      "Requirement already satisfied: pyasn1-modules>=0.0.5 in c:\\users\\pavel\\appdata\\local\\programs\\python\\python38\\lib\\site-packages (from oauth2client) (0.2.8)\n",
      "Requirement already satisfied: pyparsing<3,>=2.4.2 in c:\\users\\pavel\\appdata\\local\\programs\\python\\python38\\lib\\site-packages (from httplib2>=0.9.1->oauth2client) (2.4.7)\n",
      "Installing collected packages: oauth2client\n",
      "Successfully installed oauth2client-4.1.3\n"
     ]
    }
   ],
   "source": [
    "!pip install oauth2client"
   ]
  },
  {
   "cell_type": "code",
   "execution_count": 27,
   "id": "paperback-leadership",
   "metadata": {
    "collapsed": true,
    "jupyter": {
     "outputs_hidden": true
    },
    "tags": []
   },
   "outputs": [
    {
     "name": "stdout",
     "output_type": "stream",
     "text": [
      "Processing c:\\users\\pavel\\desktop\\ipai\\hw3\\pyaudio-0.2.11-cp38-cp38-win_amd64.whl\n",
      "Installing collected packages: PyAudio\n",
      "Successfully installed PyAudio-0.2.11\n"
     ]
    }
   ],
   "source": [
    "!pip install PyAudio-0.2.11-cp38-cp38-win_amd64.whl"
   ]
  },
  {
   "cell_type": "code",
   "execution_count": 33,
   "id": "athletic-rendering",
   "metadata": {
    "collapsed": true,
    "jupyter": {
     "outputs_hidden": true
    },
    "tags": []
   },
   "outputs": [
    {
     "name": "stdout",
     "output_type": "stream",
     "text": [
      "Requirement already satisfied: google-api-python-client in c:\\users\\pavel\\appdata\\local\\programs\\python\\python38\\lib\\site-packages (2.1.0)\n",
      "Requirement already satisfied: six<2dev,>=1.13.0 in c:\\users\\pavel\\appdata\\local\\programs\\python\\python38\\lib\\site-packages (from google-api-python-client) (1.15.0)\n",
      "Requirement already satisfied: google-auth<2dev,>=1.16.0 in c:\\users\\pavel\\appdata\\local\\programs\\python\\python38\\lib\\site-packages (from google-api-python-client) (1.28.0)\n",
      "Requirement already satisfied: uritemplate<4dev,>=3.0.0 in c:\\users\\pavel\\appdata\\local\\programs\\python\\python38\\lib\\site-packages (from google-api-python-client) (3.0.1)\n",
      "Requirement already satisfied: google-auth-httplib2>=0.1.0 in c:\\users\\pavel\\appdata\\local\\programs\\python\\python38\\lib\\site-packages (from google-api-python-client) (0.1.0)\n",
      "Requirement already satisfied: httplib2<1dev,>=0.15.0 in c:\\users\\pavel\\appdata\\local\\programs\\python\\python38\\lib\\site-packages (from google-api-python-client) (0.19.1)\n",
      "Requirement already satisfied: google-api-core<2dev,>=1.21.0 in c:\\users\\pavel\\appdata\\local\\programs\\python\\python38\\lib\\site-packages (from google-api-python-client) (1.26.3)\n",
      "Requirement already satisfied: requests<3.0.0dev,>=2.18.0 in c:\\users\\pavel\\appdata\\local\\programs\\python\\python38\\lib\\site-packages (from google-api-core<2dev,>=1.21.0->google-api-python-client) (2.25.1)\n",
      "Requirement already satisfied: protobuf>=3.12.0 in c:\\users\\pavel\\appdata\\local\\programs\\python\\python38\\lib\\site-packages (from google-api-core<2dev,>=1.21.0->google-api-python-client) (3.15.7)\n",
      "Requirement already satisfied: googleapis-common-protos<2.0dev,>=1.6.0 in c:\\users\\pavel\\appdata\\local\\programs\\python\\python38\\lib\\site-packages (from google-api-core<2dev,>=1.21.0->google-api-python-client) (1.53.0)\n",
      "Requirement already satisfied: pytz in c:\\users\\pavel\\appdata\\local\\programs\\python\\python38\\lib\\site-packages (from google-api-core<2dev,>=1.21.0->google-api-python-client) (2021.1)\n",
      "Requirement already satisfied: setuptools>=40.3.0 in c:\\users\\pavel\\appdata\\local\\programs\\python\\python38\\lib\\site-packages (from google-api-core<2dev,>=1.21.0->google-api-python-client) (57.4.0)\n",
      "Requirement already satisfied: packaging>=14.3 in c:\\users\\pavel\\appdata\\local\\programs\\python\\python38\\lib\\site-packages (from google-api-core<2dev,>=1.21.0->google-api-python-client) (20.9)\n",
      "Requirement already satisfied: pyasn1-modules>=0.2.1 in c:\\users\\pavel\\appdata\\local\\programs\\python\\python38\\lib\\site-packages (from google-auth<2dev,>=1.16.0->google-api-python-client) (0.2.8)\n",
      "Requirement already satisfied: rsa<5,>=3.1.4 in c:\\users\\pavel\\appdata\\local\\programs\\python\\python38\\lib\\site-packages (from google-auth<2dev,>=1.16.0->google-api-python-client) (4.7.2)\n",
      "Requirement already satisfied: cachetools<5.0,>=2.0.0 in c:\\users\\pavel\\appdata\\local\\programs\\python\\python38\\lib\\site-packages (from google-auth<2dev,>=1.16.0->google-api-python-client) (4.2.1)\n",
      "Requirement already satisfied: pyparsing<3,>=2.4.2 in c:\\users\\pavel\\appdata\\local\\programs\\python\\python38\\lib\\site-packages (from httplib2<1dev,>=0.15.0->google-api-python-client) (2.4.7)\n",
      "Requirement already satisfied: pyasn1<0.5.0,>=0.4.6 in c:\\users\\pavel\\appdata\\local\\programs\\python\\python38\\lib\\site-packages (from pyasn1-modules>=0.2.1->google-auth<2dev,>=1.16.0->google-api-python-client) (0.4.8)\n",
      "Requirement already satisfied: certifi>=2017.4.17 in c:\\users\\pavel\\appdata\\local\\programs\\python\\python38\\lib\\site-packages (from requests<3.0.0dev,>=2.18.0->google-api-core<2dev,>=1.21.0->google-api-python-client) (2020.12.5)\n",
      "Requirement already satisfied: idna<3,>=2.5 in c:\\users\\pavel\\appdata\\local\\programs\\python\\python38\\lib\\site-packages (from requests<3.0.0dev,>=2.18.0->google-api-core<2dev,>=1.21.0->google-api-python-client) (2.10)\n",
      "Requirement already satisfied: chardet<5,>=3.0.2 in c:\\users\\pavel\\appdata\\local\\programs\\python\\python38\\lib\\site-packages (from requests<3.0.0dev,>=2.18.0->google-api-core<2dev,>=1.21.0->google-api-python-client) (3.0.4)\n",
      "Requirement already satisfied: urllib3<1.27,>=1.21.1 in c:\\users\\pavel\\appdata\\local\\programs\\python\\python38\\lib\\site-packages (from requests<3.0.0dev,>=2.18.0->google-api-core<2dev,>=1.21.0->google-api-python-client) (1.26.4)\n"
     ]
    }
   ],
   "source": [
    "!pip install google-api-python-client"
   ]
  },
  {
   "cell_type": "markdown",
   "id": "reflected-broadway",
   "metadata": {},
   "source": [
    "# References"
   ]
  },
  {
   "cell_type": "markdown",
   "id": "paperback-float",
   "metadata": {},
   "source": [
    "1) Microphone recognition: https://github.com/Uberi/speech_recognition/blob/master/examples/microphone_recognition.py\n",
    "2) Pyaudio fix: https://stackoverflow.com/questions/52283840/i-cant-install-pyaudio-on-windows-how-to-solve-error-microsoft-visual-c-14\n",
    "3) Translation tutorial: https://codelabs.developers.google.com/codelabs/cloud-translation-python3#8\n",
    "4) Text-to-Speech: https://github.com/hsu-ai-course/hsu.ai/blob/master/code/06.%20Speech%20generation.ipynb\n",
    "5) One Piece OP (text and language chosen were inspired by this): https://youtu.be/hNHQVw90gBg\n",
    "6) Was translated into UK: https://pesni.guru/text/one-piece-opening-2-believe-full-russian-version"
   ]
  },
  {
   "cell_type": "markdown",
   "id": "increasing-proposition",
   "metadata": {},
   "source": [
    "## Seetting project Id"
   ]
  },
  {
   "cell_type": "code",
   "execution_count": 1,
   "id": "whole-aggregate",
   "metadata": {},
   "outputs": [],
   "source": [
    "# ID of your Google Cloud Project\n",
    "PROJECT_ID = 'my-ipai-homework'"
   ]
  },
  {
   "cell_type": "markdown",
   "id": "harmful-north",
   "metadata": {},
   "source": [
    "## ENV Variable necessary to Google Api"
   ]
  },
  {
   "cell_type": "code",
   "execution_count": 2,
   "id": "opened-jumping",
   "metadata": {},
   "outputs": [
    {
     "name": "stdout",
     "output_type": "stream",
     "text": [
      "env: GOOGLE_APPLICATION_CREDENTIALS=my-ipai-homework-48e333fe2bb4.json\n"
     ]
    }
   ],
   "source": [
    "# Must be set to a path to your credentials file\n",
    "%env GOOGLE_APPLICATION_CREDENTIALS=my-ipai-homework-48e333fe2bb4.json"
   ]
  },
  {
   "cell_type": "markdown",
   "id": "deadly-satin",
   "metadata": {},
   "source": [
    "## Imports"
   ]
  },
  {
   "cell_type": "code",
   "execution_count": 3,
   "id": "cubic-backing",
   "metadata": {},
   "outputs": [],
   "source": [
    "import speech_recognition as sr\n",
    "from google.cloud import translate\n",
    "import pyttsx3"
   ]
  },
  {
   "cell_type": "code",
   "execution_count": 7,
   "id": "regulated-school",
   "metadata": {},
   "outputs": [
    {
     "name": "stdout",
     "output_type": "stream",
     "text": [
      "Say something!\n",
      "Google Cloud Speech thinks you said у плаванні нам компас бути лише заважати чекають авантюри нас куди плести нам вирішувати \n",
      "in swimming we have a compass to be only hindered by adventures waiting for us where to weave we decide\n",
      "Say something!\n",
      "Google Cloud Speech thinks you said code.org закрито в глибині Перестань і бути легендою мітка скрабу на полотні \n",
      "code.org is closed in the depths of Stop and Be a Legend Scrub label on canvas\n",
      "Say something!\n"
     ]
    },
    {
     "ename": "KeyboardInterrupt",
     "evalue": "",
     "output_type": "error",
     "traceback": [
      "\u001b[1;31m---------------------------------------------------------------------------\u001b[0m",
      "\u001b[1;31mKeyboardInterrupt\u001b[0m                         Traceback (most recent call last)",
      "\u001b[1;32m<ipython-input-7-60add6a34323>\u001b[0m in \u001b[0;36m<module>\u001b[1;34m\u001b[0m\n\u001b[0;32m      9\u001b[0m     \u001b[1;32mwith\u001b[0m \u001b[0msr\u001b[0m\u001b[1;33m.\u001b[0m\u001b[0mMicrophone\u001b[0m\u001b[1;33m(\u001b[0m\u001b[1;33m)\u001b[0m \u001b[1;32mas\u001b[0m \u001b[0msource\u001b[0m\u001b[1;33m:\u001b[0m\u001b[1;33m\u001b[0m\u001b[1;33m\u001b[0m\u001b[0m\n\u001b[0;32m     10\u001b[0m         \u001b[0mprint\u001b[0m\u001b[1;33m(\u001b[0m\u001b[1;34m\"Say something!\"\u001b[0m\u001b[1;33m)\u001b[0m\u001b[1;33m\u001b[0m\u001b[1;33m\u001b[0m\u001b[0m\n\u001b[1;32m---> 11\u001b[1;33m         \u001b[0maudio\u001b[0m \u001b[1;33m=\u001b[0m \u001b[0mr\u001b[0m\u001b[1;33m.\u001b[0m\u001b[0mlisten\u001b[0m\u001b[1;33m(\u001b[0m\u001b[0msource\u001b[0m\u001b[1;33m)\u001b[0m\u001b[1;33m\u001b[0m\u001b[1;33m\u001b[0m\u001b[0m\n\u001b[0m\u001b[0;32m     12\u001b[0m     \u001b[1;32mtry\u001b[0m\u001b[1;33m:\u001b[0m\u001b[1;33m\u001b[0m\u001b[1;33m\u001b[0m\u001b[0m\n\u001b[0;32m     13\u001b[0m         \u001b[1;31m# Trying to get the result from ggogle cloud\u001b[0m\u001b[1;33m\u001b[0m\u001b[1;33m\u001b[0m\u001b[1;33m\u001b[0m\u001b[0m\n",
      "\u001b[1;32mc:\\users\\pavel\\appdata\\local\\programs\\python\\python38\\lib\\site-packages\\speech_recognition\\__init__.py\u001b[0m in \u001b[0;36mlisten\u001b[1;34m(self, source, timeout, phrase_time_limit, snowboy_configuration)\u001b[0m\n\u001b[0;32m    650\u001b[0m                     \u001b[1;32mbreak\u001b[0m\u001b[1;33m\u001b[0m\u001b[1;33m\u001b[0m\u001b[0m\n\u001b[0;32m    651\u001b[0m \u001b[1;33m\u001b[0m\u001b[0m\n\u001b[1;32m--> 652\u001b[1;33m                 \u001b[0mbuffer\u001b[0m \u001b[1;33m=\u001b[0m \u001b[0msource\u001b[0m\u001b[1;33m.\u001b[0m\u001b[0mstream\u001b[0m\u001b[1;33m.\u001b[0m\u001b[0mread\u001b[0m\u001b[1;33m(\u001b[0m\u001b[0msource\u001b[0m\u001b[1;33m.\u001b[0m\u001b[0mCHUNK\u001b[0m\u001b[1;33m)\u001b[0m\u001b[1;33m\u001b[0m\u001b[1;33m\u001b[0m\u001b[0m\n\u001b[0m\u001b[0;32m    653\u001b[0m                 \u001b[1;32mif\u001b[0m \u001b[0mlen\u001b[0m\u001b[1;33m(\u001b[0m\u001b[0mbuffer\u001b[0m\u001b[1;33m)\u001b[0m \u001b[1;33m==\u001b[0m \u001b[1;36m0\u001b[0m\u001b[1;33m:\u001b[0m \u001b[1;32mbreak\u001b[0m  \u001b[1;31m# reached end of the stream\u001b[0m\u001b[1;33m\u001b[0m\u001b[1;33m\u001b[0m\u001b[0m\n\u001b[0;32m    654\u001b[0m                 \u001b[0mframes\u001b[0m\u001b[1;33m.\u001b[0m\u001b[0mappend\u001b[0m\u001b[1;33m(\u001b[0m\u001b[0mbuffer\u001b[0m\u001b[1;33m)\u001b[0m\u001b[1;33m\u001b[0m\u001b[1;33m\u001b[0m\u001b[0m\n",
      "\u001b[1;32mc:\\users\\pavel\\appdata\\local\\programs\\python\\python38\\lib\\site-packages\\speech_recognition\\__init__.py\u001b[0m in \u001b[0;36mread\u001b[1;34m(self, size)\u001b[0m\n\u001b[0;32m    159\u001b[0m \u001b[1;33m\u001b[0m\u001b[0m\n\u001b[0;32m    160\u001b[0m         \u001b[1;32mdef\u001b[0m \u001b[0mread\u001b[0m\u001b[1;33m(\u001b[0m\u001b[0mself\u001b[0m\u001b[1;33m,\u001b[0m \u001b[0msize\u001b[0m\u001b[1;33m)\u001b[0m\u001b[1;33m:\u001b[0m\u001b[1;33m\u001b[0m\u001b[1;33m\u001b[0m\u001b[0m\n\u001b[1;32m--> 161\u001b[1;33m             \u001b[1;32mreturn\u001b[0m \u001b[0mself\u001b[0m\u001b[1;33m.\u001b[0m\u001b[0mpyaudio_stream\u001b[0m\u001b[1;33m.\u001b[0m\u001b[0mread\u001b[0m\u001b[1;33m(\u001b[0m\u001b[0msize\u001b[0m\u001b[1;33m,\u001b[0m \u001b[0mexception_on_overflow\u001b[0m\u001b[1;33m=\u001b[0m\u001b[1;32mFalse\u001b[0m\u001b[1;33m)\u001b[0m\u001b[1;33m\u001b[0m\u001b[1;33m\u001b[0m\u001b[0m\n\u001b[0m\u001b[0;32m    162\u001b[0m \u001b[1;33m\u001b[0m\u001b[0m\n\u001b[0;32m    163\u001b[0m         \u001b[1;32mdef\u001b[0m \u001b[0mclose\u001b[0m\u001b[1;33m(\u001b[0m\u001b[0mself\u001b[0m\u001b[1;33m)\u001b[0m\u001b[1;33m:\u001b[0m\u001b[1;33m\u001b[0m\u001b[1;33m\u001b[0m\u001b[0m\n",
      "\u001b[1;32mc:\\users\\pavel\\appdata\\local\\programs\\python\\python38\\lib\\site-packages\\pyaudio.py\u001b[0m in \u001b[0;36mread\u001b[1;34m(self, num_frames, exception_on_overflow)\u001b[0m\n\u001b[0;32m    606\u001b[0m                           paCanNotReadFromAnOutputOnlyStream)\n\u001b[0;32m    607\u001b[0m \u001b[1;33m\u001b[0m\u001b[0m\n\u001b[1;32m--> 608\u001b[1;33m         \u001b[1;32mreturn\u001b[0m \u001b[0mpa\u001b[0m\u001b[1;33m.\u001b[0m\u001b[0mread_stream\u001b[0m\u001b[1;33m(\u001b[0m\u001b[0mself\u001b[0m\u001b[1;33m.\u001b[0m\u001b[0m_stream\u001b[0m\u001b[1;33m,\u001b[0m \u001b[0mnum_frames\u001b[0m\u001b[1;33m,\u001b[0m \u001b[0mexception_on_overflow\u001b[0m\u001b[1;33m)\u001b[0m\u001b[1;33m\u001b[0m\u001b[1;33m\u001b[0m\u001b[0m\n\u001b[0m\u001b[0;32m    609\u001b[0m \u001b[1;33m\u001b[0m\u001b[0m\n\u001b[0;32m    610\u001b[0m     \u001b[1;32mdef\u001b[0m \u001b[0mget_read_available\u001b[0m\u001b[1;33m(\u001b[0m\u001b[0mself\u001b[0m\u001b[1;33m)\u001b[0m\u001b[1;33m:\u001b[0m\u001b[1;33m\u001b[0m\u001b[1;33m\u001b[0m\u001b[0m\n",
      "\u001b[1;31mKeyboardInterrupt\u001b[0m: "
     ]
    }
   ],
   "source": [
    "GOOGLE_CLOUD_SPEECH_CREDENTIALS = r''\n",
    "\n",
    "with open('my-ipai-homework-48e333fe2bb4.json', 'r') as inp:\n",
    "    GOOGLE_CLOUD_SPEECH_CREDENTIALS = inp.read()\n",
    "    \n",
    "while True:\n",
    "    r = sr.Recognizer()\n",
    "    # Getting speech from the microphone\n",
    "    with sr.Microphone() as source:\n",
    "        print(\"Say something!\")\n",
    "        audio = r.listen(source)\n",
    "    try:\n",
    "        # Trying to get the result from ggogle cloud\n",
    "        res = r.recognize_google_cloud(audio, language='uk-UA', credentials_json=GOOGLE_CLOUD_SPEECH_CREDENTIALS)\n",
    "        print(\"Google Cloud Speech thinks you said \" + res)\n",
    "        # Do not forget to run the cell above with your PROJECT_ID\n",
    "        project_id = PROJECT_ID\n",
    "        assert project_id\n",
    "        # Initializing google cloud\n",
    "        parent = f\"projects/{project_id}\"\n",
    "        client = translate.TranslationServiceClient()\n",
    "        # Target language\n",
    "        target_language_code = \"en\"\n",
    "        # Getting the response\n",
    "        response = client.translate_text(\n",
    "            contents=[res],\n",
    "            target_language_code=target_language_code,\n",
    "            parent=parent,\n",
    "        )\n",
    "        # May have numerous translations, all of which are printed\n",
    "        for translation in response.translations:\n",
    "            print(translation.translated_text)\n",
    "        # I am taking only 0th translation\n",
    "        text = response.translations[0].translated_text\n",
    "        # Getting engine ready for text to speech\n",
    "        engine = pyttsx3.init()\n",
    "        engine.say(text)\n",
    "        engine.runAndWait()\n",
    "    # Exceptions from the tutorials \n",
    "    except sr.UnknownValueError:\n",
    "        print(\"Looks like fish is not listening...\")\n",
    "    except sr.RequestError:\n",
    "        print(\"Looks like fish is not listening...\")"
   ]
  },
  {
   "cell_type": "markdown",
   "id": "passive-bloom",
   "metadata": {},
   "source": [
    "It was also not possible to get the Babel Fish out of the ear.... So it can be runed off only by kernel interrupt."
   ]
  }
 ],
 "metadata": {
  "kernelspec": {
   "display_name": "Python 3",
   "language": "python",
   "name": "python3"
  },
  "language_info": {
   "codemirror_mode": {
    "name": "ipython",
    "version": 3
   },
   "file_extension": ".py",
   "mimetype": "text/x-python",
   "name": "python",
   "nbconvert_exporter": "python",
   "pygments_lexer": "ipython3",
   "version": "3.8.8"
  }
 },
 "nbformat": 4,
 "nbformat_minor": 5
}
